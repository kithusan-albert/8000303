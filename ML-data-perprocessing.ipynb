{
 "cells": [
  {
   "cell_type": "code",
   "execution_count": 1,
   "id": "c01a8cf2",
   "metadata": {},
   "outputs": [],
   "source": [
    "### Import libraies\n",
    "import pandas as pd # Data manipulation and analysis.\n",
    "import numpy as np # Numerical operations and array handling.\n",
    "import matplotlib.pyplot as plt\n",
    "import seaborn as sns\n",
    "from scipy import stats # Statistical functions and tests.\n",
    "\n",
    "pd.set_option('display.max_columns', None) # Display all columns in DataFrame output.\n",
    "pd.set_option('display.max_rows', None) # Display all rows in DataFrame output.\n"
   ]
  },
  {
   "cell_type": "code",
   "execution_count": 2,
   "id": "fde00ed0",
   "metadata": {},
   "outputs": [],
   "source": [
    "# Load data from CSV\n",
    "df = pd.read_csv('data/intrusion_data.csv')"
   ]
  },
  {
   "cell_type": "code",
   "execution_count": 3,
   "id": "6eec3ee8",
   "metadata": {},
   "outputs": [
    {
     "data": {
      "text/html": [
       "<div>\n",
       "<style scoped>\n",
       "    .dataframe tbody tr th:only-of-type {\n",
       "        vertical-align: middle;\n",
       "    }\n",
       "\n",
       "    .dataframe tbody tr th {\n",
       "        vertical-align: top;\n",
       "    }\n",
       "\n",
       "    .dataframe thead th {\n",
       "        text-align: right;\n",
       "    }\n",
       "</style>\n",
       "<table border=\"1\" class=\"dataframe\">\n",
       "  <thead>\n",
       "    <tr style=\"text-align: right;\">\n",
       "      <th></th>\n",
       "      <th>session_id</th>\n",
       "      <th>network_packet_size</th>\n",
       "      <th>protocol_type</th>\n",
       "      <th>login_attempts</th>\n",
       "      <th>session_duration</th>\n",
       "      <th>encryption_used</th>\n",
       "      <th>ip_reputation_score</th>\n",
       "      <th>failed_logins</th>\n",
       "      <th>browser_type</th>\n",
       "      <th>unusual_time_access</th>\n",
       "      <th>attack_detected</th>\n",
       "    </tr>\n",
       "  </thead>\n",
       "  <tbody>\n",
       "    <tr>\n",
       "      <th>0</th>\n",
       "      <td>SID_00001</td>\n",
       "      <td>599</td>\n",
       "      <td>TCP</td>\n",
       "      <td>4</td>\n",
       "      <td>492.983263</td>\n",
       "      <td>DES</td>\n",
       "      <td>0.606818</td>\n",
       "      <td>1</td>\n",
       "      <td>Edge</td>\n",
       "      <td>0</td>\n",
       "      <td>1</td>\n",
       "    </tr>\n",
       "    <tr>\n",
       "      <th>1</th>\n",
       "      <td>SID_00002</td>\n",
       "      <td>472</td>\n",
       "      <td>TCP</td>\n",
       "      <td>3</td>\n",
       "      <td>1557.996461</td>\n",
       "      <td>DES</td>\n",
       "      <td>0.301569</td>\n",
       "      <td>0</td>\n",
       "      <td>Firefox</td>\n",
       "      <td>0</td>\n",
       "      <td>0</td>\n",
       "    </tr>\n",
       "    <tr>\n",
       "      <th>2</th>\n",
       "      <td>SID_00003</td>\n",
       "      <td>629</td>\n",
       "      <td>TCP</td>\n",
       "      <td>3</td>\n",
       "      <td>75.044262</td>\n",
       "      <td>DES</td>\n",
       "      <td>0.739164</td>\n",
       "      <td>2</td>\n",
       "      <td>Chrome</td>\n",
       "      <td>0</td>\n",
       "      <td>1</td>\n",
       "    </tr>\n",
       "    <tr>\n",
       "      <th>3</th>\n",
       "      <td>SID_00004</td>\n",
       "      <td>804</td>\n",
       "      <td>UDP</td>\n",
       "      <td>4</td>\n",
       "      <td>601.248835</td>\n",
       "      <td>DES</td>\n",
       "      <td>NaN</td>\n",
       "      <td>0</td>\n",
       "      <td>Unknown</td>\n",
       "      <td>0</td>\n",
       "      <td>1</td>\n",
       "    </tr>\n",
       "    <tr>\n",
       "      <th>4</th>\n",
       "      <td>SID_00005</td>\n",
       "      <td>453</td>\n",
       "      <td>TCP</td>\n",
       "      <td>5</td>\n",
       "      <td>532.540888</td>\n",
       "      <td>AES</td>\n",
       "      <td>0.054874</td>\n",
       "      <td>1</td>\n",
       "      <td>Firefox</td>\n",
       "      <td>0</td>\n",
       "      <td>0</td>\n",
       "    </tr>\n",
       "  </tbody>\n",
       "</table>\n",
       "</div>"
      ],
      "text/plain": [
       "  session_id  network_packet_size protocol_type  login_attempts  \\\n",
       "0  SID_00001                  599           TCP               4   \n",
       "1  SID_00002                  472           TCP               3   \n",
       "2  SID_00003                  629           TCP               3   \n",
       "3  SID_00004                  804           UDP               4   \n",
       "4  SID_00005                  453           TCP               5   \n",
       "\n",
       "   session_duration encryption_used  ip_reputation_score  failed_logins  \\\n",
       "0        492.983263             DES             0.606818              1   \n",
       "1       1557.996461             DES             0.301569              0   \n",
       "2         75.044262             DES             0.739164              2   \n",
       "3        601.248835             DES                  NaN              0   \n",
       "4        532.540888             AES             0.054874              1   \n",
       "\n",
       "  browser_type  unusual_time_access  attack_detected  \n",
       "0         Edge                    0                1  \n",
       "1      Firefox                    0                0  \n",
       "2       Chrome                    0                1  \n",
       "3      Unknown                    0                1  \n",
       "4      Firefox                    0                0  "
      ]
     },
     "execution_count": 3,
     "metadata": {},
     "output_type": "execute_result"
    }
   ],
   "source": [
    "# Display csv file in table view (5 rows)\n",
    "df.head()"
   ]
  },
  {
   "cell_type": "code",
   "execution_count": 4,
   "id": "5bd65b96",
   "metadata": {},
   "outputs": [
    {
     "data": {
      "text/plain": [
       "(9537, 11)"
      ]
     },
     "execution_count": 4,
     "metadata": {},
     "output_type": "execute_result"
    }
   ],
   "source": [
    "# Return number of rows and columns in the DataFrame\n",
    "df.shape"
   ]
  },
  {
   "cell_type": "code",
   "execution_count": 5,
   "id": "95c5e979",
   "metadata": {},
   "outputs": [
    {
     "name": "stdout",
     "output_type": "stream",
     "text": [
      "<class 'pandas.core.frame.DataFrame'>\n",
      "RangeIndex: 9537 entries, 0 to 9536\n",
      "Data columns (total 11 columns):\n",
      " #   Column               Non-Null Count  Dtype  \n",
      "---  ------               --------------  -----  \n",
      " 0   session_id           9537 non-null   object \n",
      " 1   network_packet_size  9537 non-null   int64  \n",
      " 2   protocol_type        9537 non-null   object \n",
      " 3   login_attempts       9537 non-null   int64  \n",
      " 4   session_duration     9060 non-null   float64\n",
      " 5   encryption_used      7571 non-null   object \n",
      " 6   ip_reputation_score  8106 non-null   float64\n",
      " 7   failed_logins        9537 non-null   int64  \n",
      " 8   browser_type         8583 non-null   object \n",
      " 9   unusual_time_access  9537 non-null   int64  \n",
      " 10  attack_detected      9537 non-null   int64  \n",
      "dtypes: float64(2), int64(5), object(4)\n",
      "memory usage: 819.7+ KB\n"
     ]
    }
   ],
   "source": [
    "# Return information about the DataFrame, Including data types and non-null counts.\n",
    "df.info()"
   ]
  },
  {
   "cell_type": "markdown",
   "id": "22e9a547",
   "metadata": {},
   "source": [
    "The dataset has total rows of 9537 and some columns have missing values that will need to be addressed. \n",
    "\n",
    "There is a mix of data types and columns are numerical (int64, float64), and categorical (object). The object columns will require encoding for use in predictive training. \n",
    "\n",
    "Missing values: Columns (session_duration, encryption_used, ip_reputation_score and browser_type) have non-null counts lower than the total number of entries, indicating  missing values that will need to be addressed."
   ]
  },
  {
   "cell_type": "code",
   "execution_count": 6,
   "id": "97950181",
   "metadata": {},
   "outputs": [
    {
     "data": {
      "text/html": [
       "<div>\n",
       "<style scoped>\n",
       "    .dataframe tbody tr th:only-of-type {\n",
       "        vertical-align: middle;\n",
       "    }\n",
       "\n",
       "    .dataframe tbody tr th {\n",
       "        vertical-align: top;\n",
       "    }\n",
       "\n",
       "    .dataframe thead th {\n",
       "        text-align: right;\n",
       "    }\n",
       "</style>\n",
       "<table border=\"1\" class=\"dataframe\">\n",
       "  <thead>\n",
       "    <tr style=\"text-align: right;\">\n",
       "      <th></th>\n",
       "      <th>count</th>\n",
       "      <th>mean</th>\n",
       "      <th>std</th>\n",
       "      <th>min</th>\n",
       "      <th>25%</th>\n",
       "      <th>50%</th>\n",
       "      <th>75%</th>\n",
       "      <th>max</th>\n",
       "    </tr>\n",
       "  </thead>\n",
       "  <tbody>\n",
       "    <tr>\n",
       "      <th>network_packet_size</th>\n",
       "      <td>9537.0</td>\n",
       "      <td>500.430639</td>\n",
       "      <td>198.379364</td>\n",
       "      <td>64.000000</td>\n",
       "      <td>365.000000</td>\n",
       "      <td>499.000000</td>\n",
       "      <td>635.000000</td>\n",
       "      <td>1285.000000</td>\n",
       "    </tr>\n",
       "    <tr>\n",
       "      <th>login_attempts</th>\n",
       "      <td>9537.0</td>\n",
       "      <td>4.032086</td>\n",
       "      <td>1.963012</td>\n",
       "      <td>1.000000</td>\n",
       "      <td>3.000000</td>\n",
       "      <td>4.000000</td>\n",
       "      <td>5.000000</td>\n",
       "      <td>13.000000</td>\n",
       "    </tr>\n",
       "    <tr>\n",
       "      <th>session_duration</th>\n",
       "      <td>9060.0</td>\n",
       "      <td>789.259572</td>\n",
       "      <td>785.282753</td>\n",
       "      <td>0.500000</td>\n",
       "      <td>229.883982</td>\n",
       "      <td>553.389511</td>\n",
       "      <td>1102.056853</td>\n",
       "      <td>7190.392213</td>\n",
       "    </tr>\n",
       "    <tr>\n",
       "      <th>ip_reputation_score</th>\n",
       "      <td>8106.0</td>\n",
       "      <td>0.330970</td>\n",
       "      <td>0.176582</td>\n",
       "      <td>0.002497</td>\n",
       "      <td>0.191938</td>\n",
       "      <td>0.313947</td>\n",
       "      <td>0.452014</td>\n",
       "      <td>0.891286</td>\n",
       "    </tr>\n",
       "    <tr>\n",
       "      <th>failed_logins</th>\n",
       "      <td>9537.0</td>\n",
       "      <td>1.517773</td>\n",
       "      <td>1.033988</td>\n",
       "      <td>0.000000</td>\n",
       "      <td>1.000000</td>\n",
       "      <td>1.000000</td>\n",
       "      <td>2.000000</td>\n",
       "      <td>5.000000</td>\n",
       "    </tr>\n",
       "    <tr>\n",
       "      <th>unusual_time_access</th>\n",
       "      <td>9537.0</td>\n",
       "      <td>0.149942</td>\n",
       "      <td>0.357034</td>\n",
       "      <td>0.000000</td>\n",
       "      <td>0.000000</td>\n",
       "      <td>0.000000</td>\n",
       "      <td>0.000000</td>\n",
       "      <td>1.000000</td>\n",
       "    </tr>\n",
       "    <tr>\n",
       "      <th>attack_detected</th>\n",
       "      <td>9537.0</td>\n",
       "      <td>0.447101</td>\n",
       "      <td>0.497220</td>\n",
       "      <td>0.000000</td>\n",
       "      <td>0.000000</td>\n",
       "      <td>0.000000</td>\n",
       "      <td>1.000000</td>\n",
       "      <td>1.000000</td>\n",
       "    </tr>\n",
       "  </tbody>\n",
       "</table>\n",
       "</div>"
      ],
      "text/plain": [
       "                      count        mean         std        min         25%  \\\n",
       "network_packet_size  9537.0  500.430639  198.379364  64.000000  365.000000   \n",
       "login_attempts       9537.0    4.032086    1.963012   1.000000    3.000000   \n",
       "session_duration     9060.0  789.259572  785.282753   0.500000  229.883982   \n",
       "ip_reputation_score  8106.0    0.330970    0.176582   0.002497    0.191938   \n",
       "failed_logins        9537.0    1.517773    1.033988   0.000000    1.000000   \n",
       "unusual_time_access  9537.0    0.149942    0.357034   0.000000    0.000000   \n",
       "attack_detected      9537.0    0.447101    0.497220   0.000000    0.000000   \n",
       "\n",
       "                            50%          75%          max  \n",
       "network_packet_size  499.000000   635.000000  1285.000000  \n",
       "login_attempts         4.000000     5.000000    13.000000  \n",
       "session_duration     553.389511  1102.056853  7190.392213  \n",
       "ip_reputation_score    0.313947     0.452014     0.891286  \n",
       "failed_logins          1.000000     2.000000     5.000000  \n",
       "unusual_time_access    0.000000     0.000000     1.000000  \n",
       "attack_detected        0.000000     1.000000     1.000000  "
      ]
     },
     "execution_count": 6,
     "metadata": {},
     "output_type": "execute_result"
    }
   ],
   "source": [
    "# Return summary statistics for numerical columns in the DataFrame\n",
    "df.describe().transpose()"
   ]
  },
  {
   "cell_type": "markdown",
   "id": "4ac4642d",
   "metadata": {},
   "source": [
    "The summary statistics provides overview of  7 out of 11 columns of the dataset. This aligns with the 4 categorical (object) columns we saw earlier.\n",
    "\n",
    "There is a wide variance in the session_duration which has a maximum value over 7,000. the mean (789.259572) is significantly higher than the median (50th percentile, 553.389511).\n"
   ]
  },
  {
   "cell_type": "markdown",
   "id": "3eea7532",
   "metadata": {},
   "source": [
    "# Handle Duplicates\n",
    "\n",
    "Each session is uniquely identified by the primary key, my focus is not duplicates within individual features, but on ensuring an entire rows are not duplicated.\n",
    "\n",
    "Feature columns like 'protocol_type', 'encryption_used' and 'browser_type' contain many repeated values and these are categorical features with a limited set of possible values Therefore, repeated values are expected in these columns in this dataset.\n",
    "\n",
    "Session uniqueness - I will verify that each row represents a unique session. The 'session_id' column is an designated primary key each row of this dataset. Each Session ID should be unique and no duplicated values.\n",
    "\n",
    "Duplicate rows - I will check for any fully identical rows across all columns. This is a crucial step to eliminate records that may have been duplicated during data collection.\n"
   ]
  },
  {
   "cell_type": "code",
   "execution_count": 7,
   "id": "dff72fa1",
   "metadata": {},
   "outputs": [
    {
     "data": {
      "text/plain": [
       "Index(['session_id', 'network_packet_size', 'protocol_type', 'login_attempts',\n",
       "       'session_duration', 'encryption_used', 'ip_reputation_score',\n",
       "       'failed_logins', 'browser_type', 'unusual_time_access',\n",
       "       'attack_detected'],\n",
       "      dtype='object')"
      ]
     },
     "execution_count": 7,
     "metadata": {},
     "output_type": "execute_result"
    }
   ],
   "source": [
    "# Show columns of dataset\n",
    "df.columns"
   ]
  },
  {
   "cell_type": "code",
   "execution_count": 8,
   "id": "e1e851b2",
   "metadata": {},
   "outputs": [
    {
     "name": "stdout",
     "output_type": "stream",
     "text": [
      "Number of duplicate session_ids: 0\n",
      "Number of fully identical rows: 0\n"
     ]
    }
   ],
   "source": [
    "# The \"session_id\" column should be a unique identifier for each row.\n",
    "# Check there are no identical rows of session_id\n",
    "duplicated_ids = df['session_id'].duplicated().sum()\n",
    "print(f\"Number of duplicate session_ids: {duplicated_ids}\")\n",
    "\n",
    "# Each record in the dataset is to be distinct.\n",
    "# Check for any rows that are complete duplicated across all columns.\n",
    "full_duplicates_row = df.duplicated().sum()\n",
    "print(f\"Number of fully identical rows: {full_duplicates_row}\")"
   ]
  },
  {
   "cell_type": "markdown",
   "id": "550ee1e5",
   "metadata": {},
   "source": [
    "# Handle Irrelavant Data"
   ]
  },
  {
   "cell_type": "code",
   "execution_count": 9,
   "id": "a0313606",
   "metadata": {},
   "outputs": [
    {
     "data": {
      "text/plain": [
       "Index(['network_packet_size', 'protocol_type', 'login_attempts',\n",
       "       'session_duration', 'encryption_used', 'ip_reputation_score',\n",
       "       'failed_logins', 'browser_type', 'unusual_time_access',\n",
       "       'attack_detected'],\n",
       "      dtype='object')"
      ]
     },
     "execution_count": 9,
     "metadata": {},
     "output_type": "execute_result"
    }
   ],
   "source": [
    "# The 'session_id' column is dropped as it is an identifier of unique session. \n",
    "# It offers no general predictive value and keeping would add noise to any predicitive training..\n",
    "df.drop('session_id', axis=1, inplace=True);\n",
    "\n",
    "# Verify the column has been dropped by displaying the columns\n",
    "df.columns"
   ]
  },
  {
   "cell_type": "code",
   "execution_count": 10,
   "id": "991e1b55",
   "metadata": {},
   "outputs": [
    {
     "name": "stdout",
     "output_type": "stream",
     "text": [
      "Constant features: []\n"
     ]
    }
   ],
   "source": [
    "# Check for any columns where all values are the same (constant features)\n",
    "constant_features = [col for col in df.columns if df[col].nunique() == 1]\n",
    "print(\"Constant features:\", constant_features)"
   ]
  },
  {
   "cell_type": "code",
   "execution_count": 11,
   "id": "a2d377c6",
   "metadata": {},
   "outputs": [],
   "source": [
    "# Remove constant features from the DataFrame.\n",
    "df_no_consntant_features = df.drop(columns=constant_features)"
   ]
  },
  {
   "cell_type": "markdown",
   "id": "50cde47e",
   "metadata": {},
   "source": [
    "# Handle Missing Values"
   ]
  },
  {
   "cell_type": "code",
   "execution_count": 12,
   "id": "ce570045",
   "metadata": {},
   "outputs": [
    {
     "data": {
      "text/plain": [
       "(4046, 10)"
      ]
     },
     "execution_count": 12,
     "metadata": {},
     "output_type": "execute_result"
    }
   ],
   "source": [
    "# Display the DataFrame having missing data.\n",
    "df_missing_data = df[df.isnull().any(axis=1)]\n",
    "df_missing_data.shape"
   ]
  },
  {
   "cell_type": "code",
   "execution_count": 13,
   "id": "2e89893a",
   "metadata": {},
   "outputs": [
    {
     "data": {
      "text/html": [
       "<div>\n",
       "<style scoped>\n",
       "    .dataframe tbody tr th:only-of-type {\n",
       "        vertical-align: middle;\n",
       "    }\n",
       "\n",
       "    .dataframe tbody tr th {\n",
       "        vertical-align: top;\n",
       "    }\n",
       "\n",
       "    .dataframe thead th {\n",
       "        text-align: right;\n",
       "    }\n",
       "</style>\n",
       "<table border=\"1\" class=\"dataframe\">\n",
       "  <thead>\n",
       "    <tr style=\"text-align: right;\">\n",
       "      <th></th>\n",
       "      <th>network_packet_size</th>\n",
       "      <th>protocol_type</th>\n",
       "      <th>login_attempts</th>\n",
       "      <th>session_duration</th>\n",
       "      <th>encryption_used</th>\n",
       "      <th>ip_reputation_score</th>\n",
       "      <th>failed_logins</th>\n",
       "      <th>browser_type</th>\n",
       "      <th>unusual_time_access</th>\n",
       "      <th>attack_detected</th>\n",
       "    </tr>\n",
       "  </thead>\n",
       "  <tbody>\n",
       "    <tr>\n",
       "      <th>9529</th>\n",
       "      <td>469</td>\n",
       "      <td>TCP</td>\n",
       "      <td>1</td>\n",
       "      <td>2487.078455</td>\n",
       "      <td>NaN</td>\n",
       "      <td>0.497153</td>\n",
       "      <td>0</td>\n",
       "      <td>NaN</td>\n",
       "      <td>0</td>\n",
       "      <td>0</td>\n",
       "    </tr>\n",
       "    <tr>\n",
       "      <th>9530</th>\n",
       "      <td>661</td>\n",
       "      <td>UDP</td>\n",
       "      <td>5</td>\n",
       "      <td>NaN</td>\n",
       "      <td>NaN</td>\n",
       "      <td>0.613622</td>\n",
       "      <td>3</td>\n",
       "      <td>Chrome</td>\n",
       "      <td>0</td>\n",
       "      <td>1</td>\n",
       "    </tr>\n",
       "    <tr>\n",
       "      <th>9533</th>\n",
       "      <td>380</td>\n",
       "      <td>TCP</td>\n",
       "      <td>3</td>\n",
       "      <td>182.848475</td>\n",
       "      <td>NaN</td>\n",
       "      <td>NaN</td>\n",
       "      <td>0</td>\n",
       "      <td>Chrome</td>\n",
       "      <td>0</td>\n",
       "      <td>0</td>\n",
       "    </tr>\n",
       "    <tr>\n",
       "      <th>9535</th>\n",
       "      <td>406</td>\n",
       "      <td>TCP</td>\n",
       "      <td>4</td>\n",
       "      <td>86.664703</td>\n",
       "      <td>AES</td>\n",
       "      <td>NaN</td>\n",
       "      <td>1</td>\n",
       "      <td>Chrome</td>\n",
       "      <td>1</td>\n",
       "      <td>0</td>\n",
       "    </tr>\n",
       "    <tr>\n",
       "      <th>9536</th>\n",
       "      <td>340</td>\n",
       "      <td>TCP</td>\n",
       "      <td>6</td>\n",
       "      <td>86.876744</td>\n",
       "      <td>NaN</td>\n",
       "      <td>0.277069</td>\n",
       "      <td>4</td>\n",
       "      <td>Chrome</td>\n",
       "      <td>1</td>\n",
       "      <td>1</td>\n",
       "    </tr>\n",
       "  </tbody>\n",
       "</table>\n",
       "</div>"
      ],
      "text/plain": [
       "      network_packet_size protocol_type  login_attempts  session_duration  \\\n",
       "9529                  469           TCP               1       2487.078455   \n",
       "9530                  661           UDP               5               NaN   \n",
       "9533                  380           TCP               3        182.848475   \n",
       "9535                  406           TCP               4         86.664703   \n",
       "9536                  340           TCP               6         86.876744   \n",
       "\n",
       "     encryption_used  ip_reputation_score  failed_logins browser_type  \\\n",
       "9529             NaN             0.497153              0          NaN   \n",
       "9530             NaN             0.613622              3       Chrome   \n",
       "9533             NaN                  NaN              0       Chrome   \n",
       "9535             AES                  NaN              1       Chrome   \n",
       "9536             NaN             0.277069              4       Chrome   \n",
       "\n",
       "      unusual_time_access  attack_detected  \n",
       "9529                    0                0  \n",
       "9530                    0                1  \n",
       "9533                    0                0  \n",
       "9535                    1                0  \n",
       "9536                    1                1  "
      ]
     },
     "execution_count": 13,
     "metadata": {},
     "output_type": "execute_result"
    }
   ],
   "source": [
    "df_missing_data.tail()"
   ]
  },
  {
   "cell_type": "code",
   "execution_count": 14,
   "id": "9f35ba1a",
   "metadata": {},
   "outputs": [
    {
     "name": "stdout",
     "output_type": "stream",
     "text": [
      "Total records 9537\n",
      "**************************************************\n",
      "Column: session_duration has 477 missing values ( 5.001573%)\n",
      "**************************************************\n",
      "Column: encryption_used has 1966 missing values ( 20.614449%)\n",
      "**************************************************\n",
      "Column: ip_reputation_score has 1431 missing values ( 15.004718%)\n",
      "**************************************************\n",
      "Column: browser_type has 954 missing values ( 10.003146%)\n",
      "**************************************************\n"
     ]
    }
   ],
   "source": [
    "# Show columns with mostly values more that x% missing values\n",
    "threshold = 5\n",
    "print(f\"Total records {df.shape[0]}\")\n",
    "print(\"*\"* 50)\n",
    "for col in df.columns:\n",
    "    missing_count = df[col].isnull().sum()\n",
    "    missing_ratio = (missing_count / df.shape[0]) * 100\n",
    "    if missing_ratio > threshold:\n",
    "        print(f\"Column: {col} has {missing_count} missing values ({missing_ratio: 2f}%)\")\n",
    "        print(\"*\"* 50)"
   ]
  },
  {
   "cell_type": "markdown",
   "id": "322da7f4",
   "metadata": {},
   "source": [
    "There are four columns which contain missing values: session_duration, encryption_used, ip_reputation_score and browser_type.\n",
    "\n",
    "The percentage of missing data in these columns ranges from approximately 5% to 21%. Since this is not high enough to justify dropping these potentially valuable features and losing information, I will impute the missing values."
   ]
  },
  {
   "cell_type": "code",
   "execution_count": null,
   "id": "4cfda80d",
   "metadata": {},
   "outputs": [
    {
     "name": "stdout",
     "output_type": "stream",
     "text": [
      "Imputed 'encryption_used' with the constant value 'none'.\n",
      "Imputed 'browser_type' with the constant value 'unknown'.\n",
      "\n",
      "Missing values count after categorical imputation:\n",
      "encryption_used       0\n",
      "browser_type          0\n",
      "session_duration    477\n",
      "dtype: int64\n"
     ]
    }
   ],
   "source": [
    "# Impute 'encryption_used' with 'none'\n",
    "df['encryption_used'] = df['encryption_used'].fillna('none')\n",
    "print(\"Imputed 'encryption_used' with the constant value 'none'.\")\n",
    "\n",
    "# Impute 'browser_type' with 'unknown'\n",
    "df['browser_type'] = df['browser_type'].fillna('unknown')\n",
    "print(\"Imputed 'browser_type' with the constant value 'unknown'.\")\n",
    "\n",
    "\n",
    "# Check null value count\n",
    "print(\"\\nMissing values count after categorical imputation:\")\n",
    "print(df[['encryption_used', 'browser_type', 'session_duration']].isnull().sum())"
   ]
  },
  {
   "cell_type": "markdown",
   "id": "7e5bc13a",
   "metadata": {},
   "source": [
    "I am taking an cybersecuity prespective approach to dataset missing values.\n",
    "\n",
    "The 'encryption_used' missing values are imputed with the string 'none'. This is a conservative security assumption that if an encryption protocol is not present it should be treated as unencrypted session attempt.\n",
    "\n",
    "The 'browser_type' missing values are imputed with the existing 'unknown' category. This consolidates all sessions where the browser was not identifiable, which could be a useful feature for attack detection."
   ]
  }
 ],
 "metadata": {
  "kernelspec": {
   "display_name": "ML_Cyber_env",
   "language": "python",
   "name": "python3"
  },
  "language_info": {
   "codemirror_mode": {
    "name": "ipython",
    "version": 3
   },
   "file_extension": ".py",
   "mimetype": "text/x-python",
   "name": "python",
   "nbconvert_exporter": "python",
   "pygments_lexer": "ipython3",
   "version": "3.12.11"
  }
 },
 "nbformat": 4,
 "nbformat_minor": 5
}
